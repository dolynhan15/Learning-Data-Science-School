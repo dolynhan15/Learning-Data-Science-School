{
 "cells": [
  {
   "cell_type": "code",
   "execution_count": 5,
   "id": "competitive-sociology",
   "metadata": {},
   "outputs": [
    {
     "name": "stdout",
     "output_type": "stream",
     "text": [
      "    TT        STT                    Name Date of birth       Class\n",
      "0    1  102180153             Luu Quoc An    2000-02-03  18TCLC_DT2\n",
      "1    2  102180154      Ton That Quynh Anh    2000-10-12  18TCLC_DT2\n",
      "2    3  102180155    Nguyen Thi Minh Chau    2000-10-17  18TCLC_DT2\n",
      "3    4  102180156     Tran Van Thanh Cong    2000-08-17  18TCLC_DT2\n",
      "4    5  102180157          Huynh Ba Cuong    2000-10-22  18TCLC_DT2\n",
      "5    6  102180158           Tran The Dang    2000-11-16  18TCLC_DT2\n",
      "6    7  102180159         Nguyen Tien Dat    2000-12-06  18TCLC_DT2\n",
      "7    8  102180160           Phan Thi Diem    2000-09-18  18TCLC_DT2\n",
      "8    9  102180161         Phan Khuong Duy    2000-09-29  18TCLC_DT2\n",
      "9   10  102180162           Do Trung Hieu    2000-05-02  18TCLC_DT2\n",
      "10  11  102180163     Nguyen Nguyen Hoang    1999-03-06  18TCLC_DT2\n",
      "11  12  102180164          Dang Quang Huy    2000-09-30  18TCLC_DT2\n",
      "12  13  102180165         Nguyen Hong Huy    2000-04-10  18TCLC_DT2\n",
      "13  14  102180166    Nguyen Van Quang Huy    2000-11-27  18TCLC_DT2\n",
      "14  15  102180167            Tran Van Huy    2000-10-26  18TCLC_DT2\n",
      "15  16  102180168        Nguyen Oanh Khai    2000-10-08  18TCLC_DT2\n",
      "16  17  102180169         Do Van Anh Khoa    2000-04-01  18TCLC_DT2\n",
      "17  18  102180170        Pham Mai Van Lai    2000-08-21  18TCLC_DT2\n",
      "18  19  102180171        Chau Truong Long    2000-08-02  18TCLC_DT2\n",
      "19  20  102180172          Luong The Long    2000-08-20  18TCLC_DT2\n",
      "20  21  102180173           Tran Chi Minh    2000-05-26  18TCLC_DT2\n",
      "21  22  102180174           Dang Bao Ngan    2000-04-09  18TCLC_DT2\n",
      "22  23  102180175       Nguyen Xuan Nghia    2000-06-01  18TCLC_DT2\n",
      "23  24  102180176           Bui An Nguyen    2000-11-16  18TCLC_DT2\n",
      "24  25  102180177              Do Ly Nhan    2000-05-01  18TCLC_DT2\n",
      "25  26  102180178           Phan Minh Phu    2000-10-30  18TCLC_DT2\n",
      "26  27  102180179      Nguyen Xuan Phuong    2000-06-01  18TCLC_DT2\n",
      "27  28  102180180       Nguyen Phuoc Quoc    2000-02-13  18TCLC_DT2\n",
      "28  29  102180181          Huynh Tan Sinh    2000-02-19  18TCLC_DT2\n",
      "29  30  102180182  Nguyen Dang Truong Son    2000-01-10  18TCLC_DT2\n",
      "30  31  102180183          Nguyen Duc Tai    2000-09-06  18TCLC_DT2\n",
      "31  32  102180185            Le Duc Thiet    2000-12-05  18TCLC_DT2\n",
      "32  33  102180186          Le Quang Thong    2000-10-20  18TCLC_DT2\n",
      "33  34  102180187   Huynh Tran Khanh Toan    2000-01-19  18TCLC_DT2\n",
      "34  35  102180188             Vo Minh Tri    1997-01-03  18TCLC_DT2\n",
      "35  36  102180189           Le Tien Trung    2000-03-22  18TCLC_DT2\n",
      "36  37  102180190             Phan Anh Tú    2000-12-27  18TCLC_DT2\n",
      "37  38  102180191             Le Anh Tuan    2000-06-13  18TCLC_DT2\n",
      "38  39  102180192            Phan The Tue    2000-09-23  18TCLC_DT2\n",
      "39  40  102180193            Mai The Vien    2000-06-01  18TCLC_DT2\n",
      "40  41  102180194            Ho Nguyen Vu    2000-10-19  18TCLC_DT2\n",
      "41  42  102180195           Duong Thao Vy    2000-02-29  18TCLC_DT2\n"
     ]
    }
   ],
   "source": [
    "import pandas as pd\n",
    "df = pd.read_excel('Book1.xlsx')\n",
    "#df = pd.read_csv('Check.csv', encoding='unicode_escape')\n",
    "print(df)\n"
   ]
  },
  {
   "cell_type": "code",
   "execution_count": 12,
   "id": "respiratory-comfort",
   "metadata": {},
   "outputs": [
    {
     "name": "stdout",
     "output_type": "stream",
     "text": [
      "5\n",
      "Luu Quoc An\n",
      "Ton That Quynh Anh\n",
      "Nguyen Thi Minh Chau\n",
      "Tran Van Thanh Cong\n",
      "Huynh Ba Cuong\n",
      "Tran The Dang\n",
      "Nguyen Tien Dat\n",
      "Phan Thi Diem\n",
      "Phan Khuong Duy\n",
      "Do Trung Hieu\n",
      "Nguyen Nguyen Hoang\n",
      "Dang Quang Huy\n",
      "Nguyen Hong Huy\n",
      "Nguyen Van Quang Huy\n",
      "Tran Van Huy\n",
      "Nguyen Oanh Khai\n",
      "Do Van Anh Khoa\n",
      "Pham Mai Van Lai\n",
      "Chau Truong Long\n",
      "Luong The Long\n",
      "Tran Chi Minh\n",
      "Dang Bao Ngan\n",
      "Nguyen Xuan Nghia\n",
      "Bui An Nguyen\n",
      "Do Ly Nhan\n",
      "Phan Minh Phu\n",
      "Nguyen Xuan Phuong\n",
      "Nguyen Phuoc Quoc\n",
      "Huynh Tan Sinh\n",
      "Nguyen Dang Truong Son\n",
      "Nguyen Duc Tai\n",
      "Le Duc Thiet\n",
      "Le Quang Thong\n",
      "Huynh Tran Khanh Toan\n",
      "Vo Minh Tri\n",
      "Le Tien Trung\n",
      "Phan Anh Tú\n",
      "Le Anh Tuan\n",
      "Phan The Tue\n",
      "Mai The Vien\n",
      "Ho Nguyen Vu\n",
      "Duong Thao Vy\n"
     ]
    }
   ],
   "source": [
    "print(df.shape[1])\n",
    "rows = df.shape[0]\n",
    "for i in range(0,rows):\n",
    "    print(df.loc[i][2])"
   ]
  },
  {
   "cell_type": "code",
   "execution_count": 43,
   "id": "directed-bermuda",
   "metadata": {},
   "outputs": [
    {
     "name": "stdout",
     "output_type": "stream",
     "text": [
      "          STT                    NAME DATE OF BIRTH       CLASS\n",
      "0   102180153             Luu Quoc An    2000-02-03  18TCLC_DT2\n",
      "1   102180154      Ton That Quynh Anh    2000-10-12  18TCLC_DT2\n",
      "2   102180155    Nguyen Thi Minh Chau    2000-10-17  18TCLC_DT2\n",
      "3   102180156     Tran Van Thanh Cong    2000-08-17  18TCLC_DT2\n",
      "4   102180157          Huynh Ba Cuong    2000-10-22  18TCLC_DT2\n",
      "5   102180158           Tran The Dang    2000-11-16  18TCLC_DT2\n",
      "6   102180159         Nguyen Tien Dat    2000-12-06  18TCLC_DT2\n",
      "7   102180160           Phan Thi Diem    2000-09-18  18TCLC_DT2\n",
      "8   102180161         Phan Khuong Duy    2000-09-29  18TCLC_DT2\n",
      "9   102180162           Do Trung Hieu    2000-05-02  18TCLC_DT2\n",
      "10  102180163     Nguyen Nguyen Hoang    1999-03-06  18TCLC_DT2\n",
      "11  102180164          Dang Quang Huy    2000-09-30  18TCLC_DT2\n",
      "12  102180165         Nguyen Hong Huy    2000-04-10  18TCLC_DT2\n",
      "13  102180166    Nguyen Van Quang Huy    2000-11-27  18TCLC_DT2\n",
      "14  102180167            Tran Van Huy    2000-10-26  18TCLC_DT2\n",
      "15  102180168        Nguyen Oanh Khai    2000-10-08  18TCLC_DT2\n",
      "16  102180169         Do Van Anh Khoa    2000-04-01  18TCLC_DT2\n",
      "17  102180170        Pham Mai Van Lai    2000-08-21  18TCLC_DT2\n",
      "18  102180171        Chau Truong Long    2000-08-02  18TCLC_DT2\n",
      "19  102180172          Luong The Long    2000-08-20  18TCLC_DT2\n",
      "20  102180173           Tran Chi Minh    2000-05-26  18TCLC_DT2\n",
      "21  102180174           Dang Bao Ngan    2000-04-09  18TCLC_DT2\n",
      "22  102180175       Nguyen Xuan Nghia    2000-06-01  18TCLC_DT2\n",
      "23  102180176           Bui An Nguyen    2000-11-16  18TCLC_DT2\n",
      "24  102180177              Do Ly Nhan    2000-05-01  18TCLC_DT2\n",
      "25  102180178           Phan Minh Phu    2000-10-30  18TCLC_DT2\n",
      "26  102180179      Nguyen Xuan Phuong    2000-06-01  18TCLC_DT2\n",
      "27  102180180       Nguyen Phuoc Quoc    2000-02-13  18TCLC_DT2\n",
      "28  102180181          Huynh Tan Sinh    2000-02-19  18TCLC_DT2\n",
      "29  102180182  Nguyen Dang Truong Son    2000-01-10  18TCLC_DT2\n",
      "30  102180183          Nguyen Duc Tai    2000-09-06  18TCLC_DT2\n",
      "31  102180185            Le Duc Thiet    2000-12-05  18TCLC_DT2\n",
      "32  102180186          Le Quang Thong    2000-10-20  18TCLC_DT2\n",
      "33  102180187   Huynh Tran Khanh Toan    2000-01-19  18TCLC_DT2\n",
      "34  102180188             Vo Minh Tri    1997-01-03  18TCLC_DT2\n",
      "35  102180189           Le Tien Trung    2000-03-22  18TCLC_DT2\n",
      "36  102180190             Phan Anh Tú    2000-12-27  18TCLC_DT2\n",
      "37  102180191             Le Anh Tuan    2000-06-13  18TCLC_DT2\n",
      "38  102180192            Phan The Tue    2000-09-23  18TCLC_DT2\n",
      "39  102180193            Mai The Vien    2000-06-01  18TCLC_DT2\n",
      "40  102180194            Ho Nguyen Vu    2000-10-19  18TCLC_DT2\n",
      "41  102180195           Duong Thao Vy    2000-02-29  18TCLC_DT2\n",
      "<class 'pandas.core.frame.DataFrame'>\n",
      "<class 'pandas.core.frame.DataFrame'>\n"
     ]
    }
   ],
   "source": [
    "dict_student = dict()\n",
    "stt=[]\n",
    "name=[]\n",
    "date=[]\n",
    "class_study=[]\n",
    "#print(df['STT']) // in ra gia tri cua cot va kieu du lieu\n",
    "#print(df.columns[0]) // in ra ten cac cot\n",
    "#print(df['STT'].values) // in ra gia tri cua cot\n",
    "\n",
    "data = pd.DataFrame({'STT':df['STT'].values,'NAME':df['Name'],'DATE OF BIRTH':df['Date of birth'],'CLASS':df['Class']})\n",
    "print(data)\n",
    "print(type(df))\n",
    "print(type(data))"
   ]
  },
  {
   "cell_type": "code",
   "execution_count": 30,
   "id": "local-terrorist",
   "metadata": {},
   "outputs": [
    {
     "name": "stdout",
     "output_type": "stream",
     "text": [
      "0    10\n",
      "1    20\n",
      "2    30\n",
      "dtype: int64\n",
      "   area  pop\n",
      "0    10   20\n",
      "1    20   30\n",
      "2    30   40\n"
     ]
    }
   ],
   "source": [
    "area = pd.Series([10,20,30])\n",
    "pop = pd.Series([20,30,40])\n",
    "print(area)\n",
    "data = pd.DataFrame({'area':area, 'pop':pop})\n",
    "print(data)"
   ]
  },
  {
   "cell_type": "code",
   "execution_count": null,
   "id": "attractive-office",
   "metadata": {},
   "outputs": [],
   "source": []
  }
 ],
 "metadata": {
  "kernelspec": {
   "display_name": "Python 3",
   "language": "python",
   "name": "python3"
  },
  "language_info": {
   "codemirror_mode": {
    "name": "ipython",
    "version": 3
   },
   "file_extension": ".py",
   "mimetype": "text/x-python",
   "name": "python",
   "nbconvert_exporter": "python",
   "pygments_lexer": "ipython3",
   "version": "3.9.1"
  }
 },
 "nbformat": 4,
 "nbformat_minor": 5
}
