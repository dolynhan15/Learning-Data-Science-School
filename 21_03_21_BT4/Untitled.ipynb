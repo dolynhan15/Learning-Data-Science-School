{
 "cells": [
  {
   "cell_type": "code",
   "execution_count": 1,
   "id": "atomic-vehicle",
   "metadata": {},
   "outputs": [
    {
     "data": {
      "text/html": [
       "<div>\n",
       "<style scoped>\n",
       "    .dataframe tbody tr th:only-of-type {\n",
       "        vertical-align: middle;\n",
       "    }\n",
       "\n",
       "    .dataframe tbody tr th {\n",
       "        vertical-align: top;\n",
       "    }\n",
       "\n",
       "    .dataframe thead th {\n",
       "        text-align: right;\n",
       "    }\n",
       "</style>\n",
       "<table border=\"1\" class=\"dataframe\">\n",
       "  <thead>\n",
       "    <tr style=\"text-align: right;\">\n",
       "      <th></th>\n",
       "      <th>State</th>\n",
       "      <th>Population</th>\n",
       "      <th>Murder.Rate</th>\n",
       "      <th>Abbreviation</th>\n",
       "    </tr>\n",
       "  </thead>\n",
       "  <tbody>\n",
       "    <tr>\n",
       "      <th>28</th>\n",
       "      <td>New Hampshire</td>\n",
       "      <td>1316470</td>\n",
       "      <td>0.9</td>\n",
       "      <td>NH</td>\n",
       "    </tr>\n",
       "    <tr>\n",
       "      <th>22</th>\n",
       "      <td>Minnesota</td>\n",
       "      <td>5303925</td>\n",
       "      <td>1.6</td>\n",
       "      <td>MN</td>\n",
       "    </tr>\n",
       "    <tr>\n",
       "      <th>18</th>\n",
       "      <td>Maine</td>\n",
       "      <td>1328361</td>\n",
       "      <td>1.6</td>\n",
       "      <td>ME</td>\n",
       "    </tr>\n",
       "    <tr>\n",
       "      <th>44</th>\n",
       "      <td>Vermont</td>\n",
       "      <td>625741</td>\n",
       "      <td>1.6</td>\n",
       "      <td>VT</td>\n",
       "    </tr>\n",
       "    <tr>\n",
       "      <th>10</th>\n",
       "      <td>Hawaii</td>\n",
       "      <td>1360301</td>\n",
       "      <td>1.8</td>\n",
       "      <td>HI</td>\n",
       "    </tr>\n",
       "  </tbody>\n",
       "</table>\n",
       "</div>"
      ],
      "text/plain": [
       "            State  Population  Murder.Rate Abbreviation\n",
       "28  New Hampshire     1316470          0.9           NH\n",
       "22      Minnesota     5303925          1.6           MN\n",
       "18          Maine     1328361          1.6           ME\n",
       "44        Vermont      625741          1.6           VT\n",
       "10         Hawaii     1360301          1.8           HI"
      ]
     },
     "execution_count": 1,
     "metadata": {},
     "output_type": "execute_result"
    }
   ],
   "source": [
    "import pandas as pd\n",
    "\n",
    "dataset = pd.read_csv(\"state.csv\")\n",
    "dataset = dataset.sort_values(by=['Murder.Rate'])\n",
    "dataset.head() #in ra các bản ghi đầu tiên"
   ]
  },
  {
   "cell_type": "code",
   "execution_count": 3,
   "id": "competitive-density",
   "metadata": {},
   "outputs": [
    {
     "name": "stdout",
     "output_type": "stream",
     "text": [
      "Mean:  4.066\n"
     ]
    }
   ],
   "source": [
    "rows = dataset.shape[0] #xem số lượng dòng(bang)\n",
    "mean = 0\n",
    "for i in range(0, rows):\n",
    "    mean = mean + dataset.loc[i][2] #chọn hàng i cột 2 (cột tỷ lệ giết người)\n",
    "mean = mean / rows\n",
    "print(\"Mean: \", mean)"
   ]
  },
  {
   "cell_type": "code",
   "execution_count": 4,
   "id": "nasty-oxide",
   "metadata": {},
   "outputs": [
    {
     "name": "stdout",
     "output_type": "stream",
     "text": [
      "Trimmed_mean:  4.027500000000001\n"
     ]
    }
   ],
   "source": [
    "p = int(rows / 10)\n",
    "trimmed_mean = 0\n",
    "for i in range(p, rows - p):\n",
    "    trimmed_mean = trimmed_mean + dataset.loc[i][2]\n",
    "trimmed_mean = trimmed_mean / (rows - 2 * p)\n",
    "print(\"Trimmed_mean: \", trimmed_mean)"
   ]
  },
  {
   "cell_type": "code",
   "execution_count": 5,
   "id": "republican-hebrew",
   "metadata": {},
   "outputs": [
    {
     "name": "stdout",
     "output_type": "stream",
     "text": [
      "Weighted_mean:  4.445833981123394\n"
     ]
    }
   ],
   "source": [
    "weighted_mean = 0\n",
    "sum_weigth = 0\n",
    "for i in range(0, rows):\n",
    "    weighted_mean = weighted_mean + dataset.loc[i][2] * dataset.loc[i][1] #dân số nhân tỉ lệ giết người\n",
    "    sum_weigth = sum_weigth + dataset.loc[i][1] #tổng dân số các bang\n",
    "weighted_mean = weighted_mean / sum_weigth\n",
    "print(\"Weighted_mean: \", weighted_mean)"
   ]
  },
  {
   "cell_type": "code",
   "execution_count": 6,
   "id": "quiet-farming",
   "metadata": {},
   "outputs": [
    {
     "name": "stdout",
     "output_type": "stream",
     "text": [
      "Median:  3.6\n"
     ]
    }
   ],
   "source": [
    "median = dataset.loc[int(rows / 2)][2]# chọn giá trị ở giữa danh sách\n",
    "print(\"Median: \", median)"
   ]
  },
  {
   "cell_type": "code",
   "execution_count": 7,
   "id": "danish-equity",
   "metadata": {},
   "outputs": [],
   "source": [
    "import math\n",
    "\n",
    "# mean population\n",
    "mean_population = 0\n",
    "for i in range(0, rows):\n",
    "    mean_population = mean_population + dataset.loc[i][1]\n",
    "mean_population = mean_population / rows #tính giá trị trung bình dân số mỗi bang"
   ]
  },
  {
   "cell_type": "code",
   "execution_count": 8,
   "id": "promising-arkansas",
   "metadata": {},
   "outputs": [
    {
     "name": "stdout",
     "output_type": "stream",
     "text": [
      "Standar deviation:  6848235.347401142\n"
     ]
    }
   ],
   "source": [
    "sd = 0\n",
    "for i in range(0, rows):\n",
    "    sd = sd + (mean_population - dataset.loc[i][1]) ** 2 #tính phương sai\n",
    "sd = math.sqrt(sd / (rows - 1))\n",
    "print(\"Standar deviation: \", sd)"
   ]
  },
  {
   "cell_type": "code",
   "execution_count": 9,
   "id": "mysterious-connection",
   "metadata": {},
   "outputs": [
    {
     "name": "stdout",
     "output_type": "stream",
     "text": [
      "MAD:  4541768.730612245\n"
     ]
    }
   ],
   "source": [
    "mad = 0\n",
    "for i in range(0, rows):\n",
    "    mad = mad + abs(mean_population - dataset.loc[i][1])\n",
    "mad = mad / (rows - 1)# tính trung vị của độ lệch tuyệt đối so với trung vị\n",
    "print(\"MAD: \", mad)"
   ]
  },
  {
   "cell_type": "code",
   "execution_count": 12,
   "id": "interracial-penetration",
   "metadata": {},
   "outputs": [
    {
     "data": {
      "text/html": [
       "<div>\n",
       "<style scoped>\n",
       "    .dataframe tbody tr th:only-of-type {\n",
       "        vertical-align: middle;\n",
       "    }\n",
       "\n",
       "    .dataframe tbody tr th {\n",
       "        vertical-align: top;\n",
       "    }\n",
       "\n",
       "    .dataframe thead th {\n",
       "        text-align: right;\n",
       "    }\n",
       "</style>\n",
       "<table border=\"1\" class=\"dataframe\">\n",
       "  <thead>\n",
       "    <tr style=\"text-align: right;\">\n",
       "      <th></th>\n",
       "      <th>State</th>\n",
       "      <th>Population</th>\n",
       "      <th>Murder.Rate</th>\n",
       "      <th>Abbreviation</th>\n",
       "    </tr>\n",
       "  </thead>\n",
       "  <tbody>\n",
       "    <tr>\n",
       "      <th>0</th>\n",
       "      <td>Wyoming</td>\n",
       "      <td>563626</td>\n",
       "      <td>2.7</td>\n",
       "      <td>WY</td>\n",
       "    </tr>\n",
       "    <tr>\n",
       "      <th>1</th>\n",
       "      <td>Vermont</td>\n",
       "      <td>625741</td>\n",
       "      <td>1.6</td>\n",
       "      <td>VT</td>\n",
       "    </tr>\n",
       "    <tr>\n",
       "      <th>2</th>\n",
       "      <td>North Dakota</td>\n",
       "      <td>672591</td>\n",
       "      <td>3.0</td>\n",
       "      <td>ND</td>\n",
       "    </tr>\n",
       "    <tr>\n",
       "      <th>3</th>\n",
       "      <td>Alaska</td>\n",
       "      <td>710231</td>\n",
       "      <td>5.6</td>\n",
       "      <td>AK</td>\n",
       "    </tr>\n",
       "    <tr>\n",
       "      <th>4</th>\n",
       "      <td>South Dakota</td>\n",
       "      <td>814180</td>\n",
       "      <td>2.3</td>\n",
       "      <td>SD</td>\n",
       "    </tr>\n",
       "    <tr>\n",
       "      <th>5</th>\n",
       "      <td>Delaware</td>\n",
       "      <td>897934</td>\n",
       "      <td>5.8</td>\n",
       "      <td>DE</td>\n",
       "    </tr>\n",
       "  </tbody>\n",
       "</table>\n",
       "</div>"
      ],
      "text/plain": [
       "          State  Population  Murder.Rate Abbreviation\n",
       "0       Wyoming      563626          2.7           WY\n",
       "1       Vermont      625741          1.6           VT\n",
       "2  North Dakota      672591          3.0           ND\n",
       "3        Alaska      710231          5.6           AK\n",
       "4  South Dakota      814180          2.3           SD\n",
       "5      Delaware      897934          5.8           DE"
      ]
     },
     "execution_count": 12,
     "metadata": {},
     "output_type": "execute_result"
    }
   ],
   "source": [
    "# sap xep\n",
    "df_population = dataset.sort_values(by=['Population'])\n",
    "df_population = df_population.reset_index(drop=True) #đặt lại chỉ mục\n",
    "df_population.head(6) #in ra 6 bản ghi đầu tiên"
   ]
  },
  {
   "cell_type": "code",
   "execution_count": 14,
   "id": "devoted-binary",
   "metadata": {},
   "outputs": [
    {
     "name": "stdout",
     "output_type": "stream",
     "text": [
      "3669032.0\n"
     ]
    }
   ],
   "source": [
    "n = 10\n",
    "d = (df_population.loc[rows - 1][1] - df_population.loc[0][1]) / n - 1\n",
    "print(d)"
   ]
  },
  {
   "cell_type": "code",
   "execution_count": null,
   "id": "partial-latest",
   "metadata": {},
   "outputs": [],
   "source": []
  }
 ],
 "metadata": {
  "kernelspec": {
   "display_name": "Python 3",
   "language": "python",
   "name": "python3"
  },
  "language_info": {
   "codemirror_mode": {
    "name": "ipython",
    "version": 3
   },
   "file_extension": ".py",
   "mimetype": "text/x-python",
   "name": "python",
   "nbconvert_exporter": "python",
   "pygments_lexer": "ipython3",
   "version": "3.9.1"
  }
 },
 "nbformat": 4,
 "nbformat_minor": 5
}
