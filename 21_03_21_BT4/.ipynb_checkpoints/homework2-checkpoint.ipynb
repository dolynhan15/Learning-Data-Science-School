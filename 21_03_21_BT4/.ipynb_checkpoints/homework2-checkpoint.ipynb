{
 "cells": [
  {
   "cell_type": "code",
   "execution_count": 1,
   "id": "synthetic-divide",
   "metadata": {},
   "outputs": [
    {
     "data": {
      "text/html": [
       "<div>\n",
       "<style scoped>\n",
       "    .dataframe tbody tr th:only-of-type {\n",
       "        vertical-align: middle;\n",
       "    }\n",
       "\n",
       "    .dataframe tbody tr th {\n",
       "        vertical-align: top;\n",
       "    }\n",
       "\n",
       "    .dataframe thead th {\n",
       "        text-align: right;\n",
       "    }\n",
       "</style>\n",
       "<table border=\"1\" class=\"dataframe\">\n",
       "  <thead>\n",
       "    <tr style=\"text-align: right;\">\n",
       "      <th></th>\n",
       "      <th>State</th>\n",
       "      <th>Population</th>\n",
       "      <th>Murder.Rate</th>\n",
       "      <th>Abbreviation</th>\n",
       "    </tr>\n",
       "  </thead>\n",
       "  <tbody>\n",
       "    <tr>\n",
       "      <th>28</th>\n",
       "      <td>New Hampshire</td>\n",
       "      <td>1316470</td>\n",
       "      <td>0.9</td>\n",
       "      <td>NH</td>\n",
       "    </tr>\n",
       "    <tr>\n",
       "      <th>22</th>\n",
       "      <td>Minnesota</td>\n",
       "      <td>5303925</td>\n",
       "      <td>1.6</td>\n",
       "      <td>MN</td>\n",
       "    </tr>\n",
       "    <tr>\n",
       "      <th>18</th>\n",
       "      <td>Maine</td>\n",
       "      <td>1328361</td>\n",
       "      <td>1.6</td>\n",
       "      <td>ME</td>\n",
       "    </tr>\n",
       "    <tr>\n",
       "      <th>44</th>\n",
       "      <td>Vermont</td>\n",
       "      <td>625741</td>\n",
       "      <td>1.6</td>\n",
       "      <td>VT</td>\n",
       "    </tr>\n",
       "    <tr>\n",
       "      <th>10</th>\n",
       "      <td>Hawaii</td>\n",
       "      <td>1360301</td>\n",
       "      <td>1.8</td>\n",
       "      <td>HI</td>\n",
       "    </tr>\n",
       "  </tbody>\n",
       "</table>\n",
       "</div>"
      ],
      "text/plain": [
       "            State  Population  Murder.Rate Abbreviation\n",
       "28  New Hampshire     1316470          0.9           NH\n",
       "22      Minnesota     5303925          1.6           MN\n",
       "18          Maine     1328361          1.6           ME\n",
       "44        Vermont      625741          1.6           VT\n",
       "10         Hawaii     1360301          1.8           HI"
      ]
     },
     "execution_count": 1,
     "metadata": {},
     "output_type": "execute_result"
    }
   ],
   "source": [
    "import pandas as pd\n",
    "\n",
    "dataset = pd.read_csv(\"state.csv\")\n",
    "dataset = dataset.sort_values(by=['Murder.Rate'])\n",
    "dataset.head() #in ra các bản ghi đầu tiên\n"
   ]
  },
  {
   "cell_type": "code",
   "execution_count": null,
   "id": "monetary-administration",
   "metadata": {},
   "outputs": [],
   "source": [
    "## Mean: Giá trị trung bình\n",
    "\n",
    "rows = dataset.shape[0] #xem số lượng dòng(bang)\n",
    "mean = 0\n",
    "for i in range(0, rows):\n",
    "    mean = mean + dataset.loc[i][2] #chọn hàng i cột 2 (cột tỷ lệ giết người)\n",
    "mean = mean / rows\n",
    "print(\"Mean: \", mean)"
   ]
  },
  {
   "cell_type": "code",
   "execution_count": null,
   "id": "comfortable-judge",
   "metadata": {},
   "outputs": [],
   "source": [
    "## Trimmed Mean: Giá trị trung bình tinh gọn\n",
    "\n",
    "p = int(rows / 10)\n",
    "trimmed_mean = 0\n",
    "for i in range(p, rows - p):\n",
    "    trimmed_mean = trimmed_mean + dataset.loc[i][2]\n",
    "trimmed_mean = trimmed_mean / (rows - 2 * p)\n",
    "print(\"Trimmed_mean: \", trimmed_mean)\n"
   ]
  },
  {
   "cell_type": "code",
   "execution_count": null,
   "id": "appreciated-apple",
   "metadata": {},
   "outputs": [],
   "source": [
    "## Weighted Mean: Giá trị trung bình có trọng số\n",
    "\n",
    "weighted_mean = 0\n",
    "sum_weigth = 0\n",
    "for i in range(0, rows):\n",
    "    weighted_mean = weighted_mean + dataset.loc[i][2] * dataset.loc[i][1] #dân số nhân tỉ lệ giết người\n",
    "    sum_weigth = sum_weigth + dataset.loc[i][1] #tổng dân số các bang\n",
    "weighted_mean = weighted_mean / sum_weigth\n",
    "print(\"Weighted_mean: \", weighted_mean)\n"
   ]
  },
  {
   "cell_type": "code",
   "execution_count": null,
   "id": "literary-producer",
   "metadata": {},
   "outputs": [],
   "source": [
    "## Meadian: Trung vị\n",
    "\n",
    "median = dataset.loc[int(rows / 2)][2]# chọn giá trị ở giữa danh sách\n",
    "print(\"Median: \", median)"
   ]
  },
  {
   "cell_type": "code",
   "execution_count": null,
   "id": "sticky-guarantee",
   "metadata": {},
   "outputs": [],
   "source": [
    "## Standar deviation: Độ lệch chuẩn\n",
    "\n",
    "import math\n",
    "\n",
    "# mean population\n",
    "mean_population = 0\n",
    "for i in range(0, rows):\n",
    "    mean_population = mean_population + dataset.loc[i][1]\n",
    "mean_population = mean_population / rows #tính giá trị trung bình dân số mỗi bang\n",
    "\n",
    "sd = 0\n",
    "for i in range(0, rows):\n",
    "    sd = sd + (mean_population - dataset.loc[i][1]) ** 2 #tính phương sai\n",
    "sd = math.sqrt(sd / (rows - 1))\n",
    "print(\"Standar deviation: \", sd)"
   ]
  },
  {
   "cell_type": "code",
   "execution_count": null,
   "id": "lonely-membership",
   "metadata": {},
   "outputs": [],
   "source": [
    "## MAD\n",
    "\n",
    "mad = 0\n",
    "for i in range(0, rows):\n",
    "    mad = mad + abs(mean_population - dataset.loc[i][1])\n",
    "mad = mad / (rows - 1)# tính trung vị của độ lệch tuyệt đối so với trung vị\n",
    "print(\"MAD: \", mad)"
   ]
  },
  {
   "cell_type": "code",
   "execution_count": null,
   "id": "actual-riverside",
   "metadata": {},
   "outputs": [],
   "source": [
    "## Biểu đồ tần suất\n",
    "\n",
    "# sap xep\n",
    "df_population = dataset.sort_values(by=['Population'])\n",
    "df_population = df_population.reset_index(drop=True) #đặt lại chỉ mục\n",
    "df_population.head(6) #in ra 6 bản ghi đầu tiên\n"
   ]
  },
  {
   "cell_type": "code",
   "execution_count": null,
   "id": "military-jenny",
   "metadata": {},
   "outputs": [],
   "source": [
    "# chia thành 10 khoảng\n",
    "n = 10\n",
    "d = (df_population.loc[rows - 1][1] - df_population.loc[0][1]) / n - 1\n",
    "\n",
    "first_index = 0\n",
    "first_bound = df_population.loc[first_index][1]\n",
    "last_bound = first_bound + d"
   ]
  },
  {
   "cell_type": "code",
   "execution_count": null,
   "id": "crude-equity",
   "metadata": {},
   "outputs": [],
   "source": [
    "# colums\n",
    "BinNumber = []\n",
    "BinRange = []\n",
    "Count = []\n",
    "State = []\n",
    "for i in range(0, n):\n",
    "    arr = []\n",
    "    if i == n - 1:\n",
    "        last_bound = df_population.loc[rows - 1][1] #nếu i là số cuối thì cho nó là last_bound\n",
    "    for j in range(first_index, rows):\n",
    "        if df_population.loc[j][1] > last_bound:\n",
    "            break\n",
    "        else:\n",
    "            arr.append(df_population.loc[j][3])\n",
    "    # add row\n",
    "    BinNumber.append(i) # i sẽ được thêm vào phần tử cuối của mảng\n",
    "    BinRange.append(str(first_bound) + '-' + str(last_bound))#thêm phần tử vào vị trí cuối của mảng\n",
    "    Count.append(len(arr)) # tăng count\n",
    "    State.append(arr)# thêm 1 bang vào vị trí cuối\n",
    "\n",
    "    first_bound = last_bound + 1 #first_bound tăng thêm 1 khoảng last_bound\n",
    "    last_bound = first_bound + d #tăng last_bound lên 1 khoảng d\n",
    "    first_index = j # first_index sẽ là j( với j là hàng đầu tiên trong khoảng tiếp theo)\n",
    "\n",
    "dataframe = pd.DataFrame(columns=['BinNumber', 'BinRange', 'Count', 'State'])\n",
    "\n",
    "dataframe['BinNumber'] = BinNumber\n",
    "dataframe['BinRange'] = BinRange\n",
    "dataframe['Count'] = Count\n",
    "dataframe['State'] = State\n",
    "dataframe.head(10)\n"
   ]
  },
  {
   "cell_type": "code",
   "execution_count": null,
   "id": "standard-viewer",
   "metadata": {},
   "outputs": [],
   "source": []
  },
  {
   "cell_type": "code",
   "execution_count": null,
   "id": "stable-server",
   "metadata": {},
   "outputs": [],
   "source": []
  },
  {
   "cell_type": "code",
   "execution_count": null,
   "id": "integrated-newfoundland",
   "metadata": {},
   "outputs": [],
   "source": []
  },
  {
   "cell_type": "code",
   "execution_count": null,
   "id": "blocked-vessel",
   "metadata": {},
   "outputs": [],
   "source": []
  }
 ],
 "metadata": {
  "kernelspec": {
   "display_name": "Python 3",
   "language": "python",
   "name": "python3"
  },
  "language_info": {
   "codemirror_mode": {
    "name": "ipython",
    "version": 3
   },
   "file_extension": ".py",
   "mimetype": "text/x-python",
   "name": "python",
   "nbconvert_exporter": "python",
   "pygments_lexer": "ipython3",
   "version": "3.9.1"
  }
 },
 "nbformat": 4,
 "nbformat_minor": 5
}
