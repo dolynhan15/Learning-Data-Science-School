{
 "cells": [
  {
   "cell_type": "code",
   "execution_count": 1,
   "id": "weird-lottery",
   "metadata": {},
   "outputs": [
    {
     "name": "stdout",
     "output_type": "stream",
     "text": [
      "aaa\n"
     ]
    }
   ],
   "source": [
    "print(\"a\"+\"aa\")"
   ]
  },
  {
   "cell_type": "code",
   "execution_count": 3,
   "id": "monetary-position",
   "metadata": {},
   "outputs": [
    {
     "name": "stdin",
     "output_type": "stream",
     "text": [
      "Nhap chuoi string:  abc,a\n"
     ]
    },
    {
     "data": {
      "text/plain": [
       "['abc', 'a']"
      ]
     },
     "execution_count": 3,
     "metadata": {},
     "output_type": "execute_result"
    }
   ],
   "source": [
    "    line1=input(\"Nhap chuoi string: \")\n",
    "    line1.split(\",\")\n",
    "    line1"
   ]
  },
  {
   "cell_type": "code",
   "execution_count": 3,
   "id": "intensive-scale",
   "metadata": {},
   "outputs": [
    {
     "name": "stdin",
     "output_type": "stream",
     "text": [
      "nhap:  john,1,2\n",
      "nhap:  alex,2,3\n",
      "nhap:  q\n"
     ]
    },
    {
     "name": "stdout",
     "output_type": "stream",
     "text": [
      "[['john', 1, 2], ['alex', 2, 3]]\n"
     ]
    }
   ],
   "source": [
    "s=input(\"nhap: \")\n",
    "ds=[]\n",
    "while s!='q':\n",
    "    data=s.split(\",\")\n",
    "    data[1] = int(data[1])\n",
    "    data[2] = int(data[2])\n",
    "    ds.append(data)\n",
    "    s=input(\"nhap: \")\n",
    "print(ds)\n",
    "ds.sort(key= lambda x: (x[0],x[1],x[2]))"
   ]
  },
  {
   "cell_type": "code",
   "execution_count": 4,
   "id": "dressed-convenience",
   "metadata": {},
   "outputs": [
    {
     "name": "stdout",
     "output_type": "stream",
     "text": [
      "[['alex', 2, 3], ['john', 1, 2]]\n"
     ]
    }
   ],
   "source": [
    "print(ds)"
   ]
  },
  {
   "cell_type": "code",
   "execution_count": null,
   "id": "advised-spending",
   "metadata": {},
   "outputs": [],
   "source": []
  }
 ],
 "metadata": {
  "kernelspec": {
   "display_name": "Python 3",
   "language": "python",
   "name": "python3"
  },
  "language_info": {
   "codemirror_mode": {
    "name": "ipython",
    "version": 3
   },
   "file_extension": ".py",
   "mimetype": "text/x-python",
   "name": "python",
   "nbconvert_exporter": "python",
   "pygments_lexer": "ipython3",
   "version": "3.9.1"
  }
 },
 "nbformat": 4,
 "nbformat_minor": 5
}
