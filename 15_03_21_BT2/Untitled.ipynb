{
 "cells": [
  {
   "cell_type": "code",
   "execution_count": null,
   "id": "acceptable-cisco",
   "metadata": {},
   "outputs": [],
   "source": [
    "class Student : \n",
    "    def __init__(self,stt,masv, score):\n",
    "        self.stt = stt\n",
    "        self.masv = masv\n",
    "        self.score = score\n",
    "    def __repr__(self):\n",
    "        return str(dict({\n",
    "            \"stt\": self.stt,\n",
    "            \"masv\" : self.masv,\n",
    "            \"score\" : self.score,\n",
    "        }))\n",
    "students=[]\n",
    "dict_students=dict()\n",
    "f=open(\"TongHopDiem.csv\", 'r',encoding=\"utf-8\")"
   ]
  }
 ],
 "metadata": {
  "kernelspec": {
   "display_name": "Python 3",
   "language": "python",
   "name": "python3"
  },
  "language_info": {
   "codemirror_mode": {
    "name": "ipython",
    "version": 3
   },
   "file_extension": ".py",
   "mimetype": "text/x-python",
   "name": "python",
   "nbconvert_exporter": "python",
   "pygments_lexer": "ipython3",
   "version": "3.9.1"
  }
 },
 "nbformat": 4,
 "nbformat_minor": 5
}
